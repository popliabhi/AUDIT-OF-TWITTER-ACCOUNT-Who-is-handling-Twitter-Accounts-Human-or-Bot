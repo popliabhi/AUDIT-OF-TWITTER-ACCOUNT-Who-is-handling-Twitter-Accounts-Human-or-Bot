{
 "cells": [
  {
   "cell_type": "code",
   "execution_count": 53,
   "metadata": {
    "collapsed": false
   },
   "outputs": [],
   "source": [
    "import numpy as np\n",
    "import pandas as pd\n",
    "from sklearn.model_selection import train_test_split\n",
    "from sklearn import datasets\n",
    "from sklearn import svm\n",
    "from sklearn.tree import DecisionTreeClassifier\n",
    "from sklearn import tree\n",
    "\n",
    "names=['id','id_str','screen_name','location','description','url','followers_count','friends_count','listedcount','created_at','favourites_count','verified','statuses_count','lang','status','default_profile','default_profile_image','has_extended_profile','name','bot']\n",
    "df = pd.read_csv('C:/Users/Harsh Yadav/Desktop/datamerged.csv',encoding=\"ISO-8859-1\")"
   ]
  },
  {
   "cell_type": "code",
   "execution_count": 54,
   "metadata": {
    "collapsed": false
   },
   "outputs": [
    {
     "data": {
      "text/html": [
       "<div>\n",
       "<table border=\"1\" class=\"dataframe\">\n",
       "  <thead>\n",
       "    <tr style=\"text-align: right;\">\n",
       "      <th></th>\n",
       "      <th>id</th>\n",
       "      <th>id_str</th>\n",
       "      <th>screen_name</th>\n",
       "      <th>location</th>\n",
       "      <th>description</th>\n",
       "      <th>url</th>\n",
       "      <th>followers_count</th>\n",
       "      <th>friends_count</th>\n",
       "      <th>listedcount</th>\n",
       "      <th>created_at</th>\n",
       "      <th>favourites_count</th>\n",
       "      <th>verified</th>\n",
       "      <th>statuses_count</th>\n",
       "      <th>lang</th>\n",
       "      <th>status</th>\n",
       "      <th>default_profile</th>\n",
       "      <th>default_profile_image</th>\n",
       "      <th>has_extended_profile</th>\n",
       "      <th>name</th>\n",
       "      <th>bot</th>\n",
       "    </tr>\n",
       "  </thead>\n",
       "  <tbody>\n",
       "    <tr>\n",
       "      <th>0</th>\n",
       "      <td>3.982732e+09</td>\n",
       "      <td>3982731976</td>\n",
       "      <td>mcgucket_bot</td>\n",
       "      <td>NaN</td>\n",
       "      <td>A bot that tweets every line said by Fiddlefor...</td>\n",
       "      <td>NaN</td>\n",
       "      <td>1129</td>\n",
       "      <td>7</td>\n",
       "      <td>2</td>\n",
       "      <td>Sat Oct 17 22:35:31 +0000 2015</td>\n",
       "      <td>0</td>\n",
       "      <td>False</td>\n",
       "      <td>23557</td>\n",
       "      <td>en</td>\n",
       "      <td>{'retweeted': False, 'is_quote_status': False,...</td>\n",
       "      <td>False</td>\n",
       "      <td>False</td>\n",
       "      <td>False</td>\n",
       "      <td>McGucket bot</td>\n",
       "      <td>1</td>\n",
       "    </tr>\n",
       "    <tr>\n",
       "      <th>1</th>\n",
       "      <td>8.410000e+17</td>\n",
       "      <td>8.41E+17</td>\n",
       "      <td>BowieK66</td>\n",
       "      <td>NaN</td>\n",
       "      <td>NaN</td>\n",
       "      <td>NaN</td>\n",
       "      <td>0</td>\n",
       "      <td>22</td>\n",
       "      <td>0</td>\n",
       "      <td>13/03/2017 22:21</td>\n",
       "      <td>0</td>\n",
       "      <td>False</td>\n",
       "      <td>1</td>\n",
       "      <td>en</td>\n",
       "      <td>Status(_api=&lt;tweepy.api.API object at 0x101927...</td>\n",
       "      <td>True</td>\n",
       "      <td>True</td>\n",
       "      <td>False</td>\n",
       "      <td>MJ Kuhn</td>\n",
       "      <td>1</td>\n",
       "    </tr>\n",
       "    <tr>\n",
       "      <th>2</th>\n",
       "      <td>2.768375e+09</td>\n",
       "      <td>2768374981</td>\n",
       "      <td>ducknoteprice</td>\n",
       "      <td>NaN</td>\n",
       "      <td>NaN</td>\n",
       "      <td>NaN</td>\n",
       "      <td>3</td>\n",
       "      <td>0</td>\n",
       "      <td>3</td>\n",
       "      <td>Mon Aug 25 23:17:59 +0000 2014</td>\n",
       "      <td>0</td>\n",
       "      <td>False</td>\n",
       "      <td>1050</td>\n",
       "      <td>en</td>\n",
       "      <td>{'created_at': 'Fri Feb 26 17:01:15 +0000 2016...</td>\n",
       "      <td>True</td>\n",
       "      <td>False</td>\n",
       "      <td>False</td>\n",
       "      <td>duckNote</td>\n",
       "      <td>1</td>\n",
       "    </tr>\n",
       "    <tr>\n",
       "      <th>3</th>\n",
       "      <td>3.304189e+09</td>\n",
       "      <td>3304189373</td>\n",
       "      <td>robotrecipes</td>\n",
       "      <td>robot kitchen</td>\n",
       "      <td>tasty recipes for robot // not for human // a ...</td>\n",
       "      <td>http://t.co/PdagJGqVMR</td>\n",
       "      <td>505</td>\n",
       "      <td>13</td>\n",
       "      <td>49</td>\n",
       "      <td>Sat May 30 23:42:16 +0000 2015</td>\n",
       "      <td>0</td>\n",
       "      <td>False</td>\n",
       "      <td>5109</td>\n",
       "      <td>en</td>\n",
       "      <td>{u'contributors': None, u'truncated': False, u...</td>\n",
       "      <td>False</td>\n",
       "      <td>False</td>\n",
       "      <td>False</td>\n",
       "      <td>robot recipes</td>\n",
       "      <td>1</td>\n",
       "    </tr>\n",
       "    <tr>\n",
       "      <th>4</th>\n",
       "      <td>3.224289e+09</td>\n",
       "      <td>3224289024</td>\n",
       "      <td>everyumlaut</td>\n",
       "      <td>NaN</td>\n",
       "      <td>bot by @dbaker_h</td>\n",
       "      <td>NaN</td>\n",
       "      <td>15</td>\n",
       "      <td>0</td>\n",
       "      <td>11</td>\n",
       "      <td>Sat May 23 14:39:21 +0000 2015</td>\n",
       "      <td>0</td>\n",
       "      <td>False</td>\n",
       "      <td>31365</td>\n",
       "      <td>en-gb</td>\n",
       "      <td>{u'contributors': None, u'truncated': False, u...</td>\n",
       "      <td>True</td>\n",
       "      <td>False</td>\n",
       "      <td>False</td>\n",
       "      <td>ÌÇvÌÇrÌÀ Ì_mlÌ_Ì_¼Ñ</td>\n",
       "      <td>1</td>\n",
       "    </tr>\n",
       "  </tbody>\n",
       "</table>\n",
       "</div>"
      ],
      "text/plain": [
       "             id      id_str    screen_name       location  \\\n",
       "0  3.982732e+09  3982731976   mcgucket_bot            NaN   \n",
       "1  8.410000e+17    8.41E+17       BowieK66            NaN   \n",
       "2  2.768375e+09  2768374981  ducknoteprice            NaN   \n",
       "3  3.304189e+09  3304189373   robotrecipes  robot kitchen   \n",
       "4  3.224289e+09  3224289024    everyumlaut            NaN   \n",
       "\n",
       "                                         description                     url  \\\n",
       "0  A bot that tweets every line said by Fiddlefor...                     NaN   \n",
       "1                                                NaN                     NaN   \n",
       "2                                                NaN                     NaN   \n",
       "3  tasty recipes for robot // not for human // a ...  http://t.co/PdagJGqVMR   \n",
       "4                                   bot by @dbaker_h                     NaN   \n",
       "\n",
       "   followers_count  friends_count  listedcount  \\\n",
       "0             1129              7            2   \n",
       "1                0             22            0   \n",
       "2                3              0            3   \n",
       "3              505             13           49   \n",
       "4               15              0           11   \n",
       "\n",
       "                       created_at  favourites_count verified  statuses_count  \\\n",
       "0  Sat Oct 17 22:35:31 +0000 2015                 0    False           23557   \n",
       "1                13/03/2017 22:21                 0    False               1   \n",
       "2  Mon Aug 25 23:17:59 +0000 2014                 0    False            1050   \n",
       "3  Sat May 30 23:42:16 +0000 2015                 0    False            5109   \n",
       "4  Sat May 23 14:39:21 +0000 2015                 0    False           31365   \n",
       "\n",
       "    lang                                             status default_profile  \\\n",
       "0     en  {'retweeted': False, 'is_quote_status': False,...           False   \n",
       "1     en  Status(_api=<tweepy.api.API object at 0x101927...            True   \n",
       "2     en  {'created_at': 'Fri Feb 26 17:01:15 +0000 2016...            True   \n",
       "3     en  {u'contributors': None, u'truncated': False, u...           False   \n",
       "4  en-gb  {u'contributors': None, u'truncated': False, u...            True   \n",
       "\n",
       "  default_profile_image has_extended_profile                  name  bot  \n",
       "0                 False                False          McGucket bot    1  \n",
       "1                  True                False               MJ Kuhn    1  \n",
       "2                 False                False              duckNote    1  \n",
       "3                 False                False         robot recipes    1  \n",
       "4                 False                False  ÌÇvÌÇrÌÀ Ì_mlÌ_Ì_¼Ñ    1  "
      ]
     },
     "execution_count": 54,
     "metadata": {},
     "output_type": "execute_result"
    }
   ],
   "source": [
    "df.head(5)"
   ]
  },
  {
   "cell_type": "code",
   "execution_count": 55,
   "metadata": {
    "collapsed": false
   },
   "outputs": [],
   "source": [
    "#deleting the unnecessary fields\n",
    "del df['id']\n",
    "del df['screen_name']\n",
    "del df ['id_str']\n",
    "del df['location']\n",
    "del df['url']\n",
    "del df['name']\n",
    "\n",
    "df.verified=df.verified.astype(int)\n",
    "df.default_profile=df.default_profile.astype(int)\n",
    "df.default_profile_image=df.default_profile_image.astype(int)\n",
    "df.has_extended_profile = df['has_extended_profile'].fillna(False)\n",
    "#df.has_extended_profile = df.has_extended_profile.astype(int)\n",
    "\n",
    "decision_data = df.copy()\n",
    "\n",
    "del decision_data['description']\n",
    "del decision_data['created_at']\n",
    "del decision_data['status']\n",
    "del decision_data['lang']"
   ]
  },
  {
   "cell_type": "code",
   "execution_count": 56,
   "metadata": {
    "collapsed": true
   },
   "outputs": [],
   "source": [
    "Xdt_train, Xdt_test, ydt_train, ydt_test = train_test_split(decision_data.ix[:,0:9], df['bot'], test_size=0.2, random_state=0)"
   ]
  },
  {
   "cell_type": "code",
   "execution_count": 57,
   "metadata": {
    "collapsed": false
   },
   "outputs": [
    {
     "data": {
      "text/html": [
       "<div>\n",
       "<table border=\"1\" class=\"dataframe\">\n",
       "  <thead>\n",
       "    <tr style=\"text-align: right;\">\n",
       "      <th></th>\n",
       "      <th>followers_count</th>\n",
       "      <th>friends_count</th>\n",
       "      <th>listedcount</th>\n",
       "      <th>favourites_count</th>\n",
       "      <th>verified</th>\n",
       "      <th>statuses_count</th>\n",
       "      <th>default_profile</th>\n",
       "      <th>default_profile_image</th>\n",
       "      <th>has_extended_profile</th>\n",
       "    </tr>\n",
       "  </thead>\n",
       "  <tbody>\n",
       "    <tr>\n",
       "      <th>1733</th>\n",
       "      <td>25253</td>\n",
       "      <td>152</td>\n",
       "      <td>970</td>\n",
       "      <td>1582</td>\n",
       "      <td>1</td>\n",
       "      <td>36172</td>\n",
       "      <td>0</td>\n",
       "      <td>0</td>\n",
       "      <td>False</td>\n",
       "    </tr>\n",
       "    <tr>\n",
       "      <th>438</th>\n",
       "      <td>1</td>\n",
       "      <td>337</td>\n",
       "      <td>0</td>\n",
       "      <td>38</td>\n",
       "      <td>0</td>\n",
       "      <td>30</td>\n",
       "      <td>1</td>\n",
       "      <td>0</td>\n",
       "      <td>False</td>\n",
       "    </tr>\n",
       "  </tbody>\n",
       "</table>\n",
       "</div>"
      ],
      "text/plain": [
       "      followers_count  friends_count  listedcount  favourites_count  verified  \\\n",
       "1733            25253            152          970              1582         1   \n",
       "438                 1            337            0                38         0   \n",
       "\n",
       "      statuses_count  default_profile  default_profile_image  \\\n",
       "1733           36172                0                      0   \n",
       "438               30                1                      0   \n",
       "\n",
       "     has_extended_profile  \n",
       "1733                False  \n",
       "438                 False  "
      ]
     },
     "execution_count": 57,
     "metadata": {},
     "output_type": "execute_result"
    }
   ],
   "source": [
    "Xdt_train.head(2)"
   ]
  },
  {
   "cell_type": "code",
   "execution_count": 58,
   "metadata": {
    "collapsed": false
   },
   "outputs": [],
   "source": [
    "tree_clf = DecisionTreeClassifier()"
   ]
  },
  {
   "cell_type": "code",
   "execution_count": 59,
   "metadata": {
    "collapsed": false
   },
   "outputs": [],
   "source": [
    "clf = tree.DecisionTreeClassifier(criterion=\"entropy\")\n",
    "clf = clf.fit(Xdt_train, ydt_train)\n",
    "results_dt = clf.predict(Xdt_test)"
   ]
  },
  {
   "cell_type": "code",
   "execution_count": 60,
   "metadata": {
    "collapsed": false
   },
   "outputs": [
    {
     "name": "stdout",
     "output_type": "stream",
     "text": [
      "Accuracy Score: 0.845637583893\n",
      "Precision Score:  0.854545454545\n",
      "Recall Score:  0.835555555556\n",
      "F1 Score:  0.844943820225\n"
     ]
    }
   ],
   "source": [
    "np.mean(results_dt == ydt_test)\n",
    "from sklearn.metrics import *\n",
    "print(\"Accuracy Score:\", (accuracy_score(ydt_test,results_dt )))\n",
    "print(\"Precision Score: \", (precision_score(ydt_test,results_dt,average='binary' )))\n",
    "print(\"Recall Score: \", (recall_score(ydt_test,results_dt,average='binary' )))\n",
    "print(\"F1 Score: \", (f1_score(ydt_test,results_dt,average='binary' )))"
   ]
  },
  {
   "cell_type": "code",
   "execution_count": 61,
   "metadata": {
    "collapsed": false
   },
   "outputs": [
    {
     "data": {
      "text/plain": [
       "[<matplotlib.lines.Line2D at 0x16741399cf8>]"
      ]
     },
     "execution_count": 61,
     "metadata": {},
     "output_type": "execute_result"
    },
    {
     "data": {
      "image/png": "[encoded data removed]",
      "text/plain": [
       "<matplotlib.figure.Figure at 0x167411c3438>"
      ]
     },
     "metadata": {},
     "output_type": "display_data"
    }
   ],
   "source": [
    "import matplotlib\n",
    "import matplotlib.pyplot as plt\n",
    "%matplotlib inline\n",
    "\n",
    "from sklearn import metrics\n",
    "from sklearn.metrics import *\n",
    "fpr, tpr, thresholds = metrics.roc_curve(ydt_test, results_dt,pos_label=1)\n",
    "metrics.auc(fpr, tpr)\n",
    "\n",
    "fpr, tpr, thresholds = metrics.roc_curve(ydt_test, results_dt,pos_label=1)\n",
    "metrics.auc(fpr,tpr)\n",
    "#x = np.array(fpr)\n",
    "#y = np.array(tpr)\n",
    "plt.xlabel('FPR',fontsize=15)\n",
    "plt.ylabel('TPR',fontsize=15)\n",
    "plt.plot(fpr,tpr)\n"
   ]
  }
 ],
 "metadata": {
  "anaconda-cloud": {},
  "kernelspec": {
   "display_name": "Python 3",
   "language": "python",
   "name": "python3"
  },
  "language_info": {
   "codemirror_mode": {
    "name": "ipython",
    "version": 3
   },
   "file_extension": ".py",
   "mimetype": "text/x-python",
   "name": "python",
   "nbconvert_exporter": "python",
   "pygments_lexer": "ipython3",
   "version": "3.6.0"
  }
 },
 "nbformat": 4,
 "nbformat_minor": 0
}
